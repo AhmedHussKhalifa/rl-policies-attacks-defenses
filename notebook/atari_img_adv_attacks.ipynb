{
 "cells": [
  {
   "cell_type": "code",
   "execution_count": null,
   "metadata": {
    "id": "kaxy0OrmHUyu",
    "colab_type": "code",
    "colab": {}
   },
   "outputs": [],
   "source": [
    "import gym\n",
    "import random\n",
    "from advertorch.attacks import *\n",
    "from utils import *\n",
    "from net.discrete_net import *\n",
    "import random as rd\n",
    "import numpy as np\n",
    "import matplotlib.pyplot as plt"
   ]
  },
  {
   "cell_type": "code",
   "execution_count": null,
   "metadata": {
    "id": "4meRsx6nQBGt",
    "colab_type": "code",
    "colab": {}
   },
   "outputs": [],
   "source": [
    "def test_adv_img_atk(env, adv_atk, n_eval=100):\n",
    "    \"\"\"Perform the adversarial attacks\"\"\"\n",
    "    targeted = adv_atk.targeted\n",
    "    action_shape = env.action_space.shape or env.action_space.n\n",
    "    state_shape = env.observation_space.shape or env.observation_space.n\n",
    "    succ = 0\n",
    "    obs = env.reset()\n",
    "    for i in range(n_eval):\n",
    "        act = [random.randint(0, action_shape-1)]\n",
    "        if targeted:\n",
    "          des_act = act\n",
    "          while act == des_act:\n",
    "              act = [rd.randint(0, np.prod(action_shape)-1)]\n",
    "        t_obs = torch.FloatTensor(obs[np.newaxis, :]).to(device)\n",
    "        if not targeted:\n",
    "            t_act = torch.tensor(act).to(device)\n",
    "            adv_obs = adv_atk.perturb(t_obs, t_act)\n",
    "            \"\"\"adv_obs_ = adv_obs.cpu().detach().numpy().astype(int)[0]\n",
    "            imgplot = plt.imshow(obs)\n",
    "            plt.show()\n",
    "            imgplot = plt.imshow(adv_obs_)\n",
    "            plt.show()\n",
    "            input()\"\"\"\n",
    "        else:\n",
    "            t_des_act = torch.tensor(des_act).to(device)\n",
    "            adv_obs = adv_atk.perturb(t_obs, t_des_act)\n",
    "\n",
    "        y = adv_atk.predict(adv_obs)\n",
    "        _, adv_actions = torch.max(y, 1)\n",
    "        adv_act = adv_actions.cpu().detach().numpy()[0]\n",
    "        if not targeted and adv_act != act:\n",
    "            succ += 1\n",
    "        if targeted and adv_act == des_act:\n",
    "            succ += 1\n",
    "        obs, rew, done, info = env.step(adv_act)\n",
    "        if done:\n",
    "            obs = env.reset()\n",
    "    return succ / n_eval"
   ]
  },
  {
   "cell_type": "code",
   "execution_count": null,
   "metadata": {
    "id": "n_uQKRdG9v8U",
    "colab_type": "code",
    "colab": {}
   },
   "outputs": [],
   "source": [
    "def init_attack(env, device=\"cpu\", attack_type=\"gsm\", eps=0.3, targeted=False):\n",
    "    state_shape = env.observation_space.shape or env.observation_space.n\n",
    "    action_shape = env.action_space.shape or env.action_space.n\n",
    "    net = Net(2, state_shape, action_shape, device).to(device)\n",
    "    net = NetAdapter(net).to(device)\n",
    "    net.eval()\n",
    "    if attack_type == \"gsm\":\n",
    "        adv_atk = GradientSignAttack(net, targeted=targeted, eps=eps, clip=255.)\n",
    "    elif attack_type == \"cw\":\n",
    "        adv_atk = CarliniWagnerL2Attack(net, np.prod(action_shape), confidence=1, max_iterations=10, clip=255.)\n",
    "    else:\n",
    "        raise Exception(\"method not supported!\")\n",
    "    return adv_atk"
   ]
  },
  {
   "cell_type": "code",
   "execution_count": null,
   "metadata": {
    "id": "jfL2hCpZjHmP",
    "colab_type": "code",
    "colab": {}
   },
   "outputs": [],
   "source": [
    "device = 'cuda' if torch.cuda.is_available() else 'cpu'\n",
    "list_env = [gym.make(\"CartPole-v0\"), gym.make(\"Breakout-v4\"), gym.make(\"MsPacman-v4\"), gym.make(\"Pong-v4\")]\n",
    "list_atk = [\"gsm\", \"cw\"]\n",
    "\n",
    "eps = 255*0.3\n",
    "targeted = True\n",
    "env = list_env[1]\n",
    "atk = list_atk[1]\n",
    "\n",
    "adv_atk = init_attack(env, device, attack_type=atk, eps=eps, targeted=targeted)"
   ]
  },
  {
   "cell_type": "code",
   "execution_count": null,
   "metadata": {
    "id": "nZ0BTWHy2X05",
    "colab_type": "code",
    "colab": {
     "base_uri": "https://localhost:8080/",
     "height": 34.0
    },
    "outputId": "77e4efac-4e3b-4032-a80d-39c7bb5b188a"
   },
   "outputs": [
    {
     "name": "stdout",
     "output_type": "stream",
     "text": [
      "Pong - GSM:  0.9733333333333334\n"
     ]
    }
   ],
   "source": [
    "res = test_adv_img_atk(env, adv_atk)\n",
    "print(\"Pong - GSM: \", res)"
   ]
  },
  {
   "cell_type": "code",
   "execution_count": null,
   "metadata": {
    "id": "9iVfWeDFxiZn",
    "colab_type": "code",
    "colab": {
     "base_uri": "https://localhost:8080/",
     "height": 34.0
    },
    "outputId": "9b02d7e1-a5ea-4334-c1f8-7e54873bf1f7"
   },
   "outputs": [
    {
     "name": "stdout",
     "output_type": "stream",
     "text": [
      "Pacman - Targeted - GSM:  0.87\n"
     ]
    }
   ],
   "source": [
    "res = test_adv_img_atk(env, adv_atk)\n",
    "print(\"Pacman - Targeted - GSM: \", res)"
   ]
  },
  {
   "cell_type": "code",
   "execution_count": null,
   "metadata": {
    "id": "pYs6jaJPz-vA",
    "colab_type": "code",
    "colab": {
     "base_uri": "https://localhost:8080/",
     "height": 34.0
    },
    "outputId": "5c2352aa-7d45-4b6c-e9ec-a2fafc5772ec"
   },
   "outputs": [
    {
     "name": "stdout",
     "output_type": "stream",
     "text": [
      "Breakout - Targeted - GSM:  0.8333333333333334\n"
     ]
    }
   ],
   "source": [
    "res = test_adv_img_atk(env, adv_atk)\n",
    "print(\"Breakout - Targeted - GSM: \", res)"
   ]
  },
  {
   "cell_type": "code",
   "execution_count": null,
   "metadata": {
    "colab_type": "code",
    "id": "BQFItPP-FDVB",
    "colab": {
     "base_uri": "https://localhost:8080/",
     "height": 34.0
    },
    "outputId": "1071fd09-b1da-49fe-8c1c-8056c5ffecf4"
   },
   "outputs": [
    {
     "name": "stdout",
     "output_type": "stream",
     "text": [
      "Breakout - Targeted - CW:  0.72\n"
     ]
    }
   ],
   "source": [
    "res = test_adv_img_atk(env, adv_atk)\n",
    "print(\"Breakout - Targeted - CW: \", res)"
   ]
  }
 ],
 "metadata": {
  "colab": {
   "name": "Copy of test_img_adv_attacks.ipynb",
   "provenance": [],
   "collapsed_sections": []
  },
  "kernelspec": {
   "name": "python3",
   "display_name": "Python 3"
  },
  "accelerator": "GPU"
 },
 "nbformat": 4,
 "nbformat_minor": 0
}
